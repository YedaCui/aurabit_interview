{
 "cells": [
  {
   "cell_type": "code",
   "execution_count": 78,
   "metadata": {},
   "outputs": [],
   "source": [
    "import h5py\n",
    "import pandas as pd\n",
    "import os\n",
    "\n",
    "\n",
    "def parse_timestamp(ts):\n",
    "    ts = str(ts)\n",
    "    if len(ts) == 17:\n",
    "        year = int(ts[0:4])\n",
    "        month = int(ts[4:6])\n",
    "        day = int(ts[6:8])\n",
    "        hour = int(ts[8:10])\n",
    "        minute = int(ts[10:12])\n",
    "        second = int(ts[12:14])\n",
    "        millisecond = int(ts[14:17])\n",
    "        microsecond = millisecond * 1000\n",
    "\n",
    "        return pd.Timestamp(year, month, day, hour, minute, second, microsecond)\n",
    "    else:\n",
    "        return pd.NaT\n",
    "    \n",
    "def vwap(df, level=10, _type=\"all\"):\n",
    "    if _type == \"ask\":\n",
    "        pv = df.apply(lambda row: sum([row[f\"AskPrice{str(i)}\"]*row[f\"AskVolume{str(i)}\"] for i in range(1,level+1)]),axis=1)\n",
    "        v = df.apply(lambda row: sum([row[f\"AskVolume{str(i)}\"] for i in range(1,level+1)]),axis=1)\n",
    "    if _type == \"bid\":\n",
    "        pv = df.apply(lambda row: sum([row[f\"BidPrice{str(i)}\"]*row[f\"BidVolume{str(i)}\"] for i in range(1,level+1)]),axis=1)\n",
    "        v = df.apply(lambda row: sum([row[f\"BidVolume{str(i)}\"] for i in range(1,level+1)]),axis=1)\n",
    "    if _type == \"all\":\n",
    "        askvwap, askv = vwap(df, level, _type=\"ask\")\n",
    "        bidvwap, bidv = vwap(df, level, _type=\"bid\")\n",
    "        pv, v = askvwap*askv + bidvwap*bidv, askv + bidv\n",
    "    return pv/v, v\n",
    "\n",
    "class PPL:\n",
    "    def __init__(self, base_path=\"./interview\"):\n",
    "        self.base_path = base_path\n",
    "\n",
    "    def profiler(self, dayprofiler, kwargs={}, id=\"002521\", start_date=\"20220601\", end_date=\"20221013\"):\n",
    "        dates = list(map(lambda x: x.strftime(\"%Y%m%d\"), pd.date_range(start=start_date, end=end_date).tolist()))\n",
    "        res = []\n",
    "        res_dates = []\n",
    "        for date in dates:\n",
    "            if os.path.exists(f'{self.base_path}/{id}_{date}.h5'):\n",
    "                res_dates.append(date)\n",
    "                with h5py.File(f'{self.base_path}/{id}_{date}.h5', 'r') as f:\n",
    "                    res.append(dayprofiler(f, **kwargs))\n",
    "        return pd.concat(res, keys=res_dates)\n",
    "    \n",
    "    @staticmethod\n",
    "    def get_basic(f, freq=\"1T\"):\n",
    "        df = pd.DataFrame({\n",
    "            k: f[k][:] for k in f.keys()\n",
    "        })\n",
    "        df[\"MidPrice\"] = (df[\"AskPrice1\"] * df[\"AskVolume1\"] + df[\"BidPrice1\"] * df[\"BidVolume1\"]) / (df[\"AskVolume1\"] + df[\"BidVolume1\"])\n",
    "        df[\"Time\"] = df[\"DataTime\"].apply(parse_timestamp)\n",
    "        df.set_index(\"Time\", inplace=True)\n",
    "        resampled = df.resample(freq).agg(\n",
    "            {\n",
    "                \"MidPrice\" : [\"first\", \"last\"],\n",
    "                \"Volume\" : [\"first\", \"last\"],\n",
    "            }\n",
    "        )\n",
    "        res = pd.DataFrame({\n",
    "            \"open\" : resampled[\"MidPrice\"][\"first\"],\n",
    "            \"close\" : resampled[\"MidPrice\"][\"last\"],\n",
    "            \"volume\": resampled[\"Volume\"][\"last\"] - resampled[\"Volume\"][\"first\"]\n",
    "        })\n",
    "        return res\n",
    "    \n"
   ]
  },
  {
   "cell_type": "code",
   "execution_count": 19,
   "metadata": {},
   "outputs": [],
   "source": [
    "pd.set_option(\"display.max_columns\", 100)"
   ]
  },
  {
   "cell_type": "code",
   "execution_count": 81,
   "metadata": {},
   "outputs": [
    {
     "name": "stdout",
     "output_type": "stream",
     "text": [
      "['AskPrice1', 'AskPrice10', 'AskPrice2', 'AskPrice3', 'AskPrice4', 'AskPrice5', 'AskPrice6', 'AskPrice7', 'AskPrice8', 'AskPrice9', 'AskVolume1', 'AskVolume10', 'AskVolume2', 'AskVolume3', 'AskVolume4', 'AskVolume5', 'AskVolume6', 'AskVolume7', 'AskVolume8', 'AskVolume9', 'AveragePrice', 'BidPrice1', 'BidPrice10', 'BidPrice2', 'BidPrice3', 'BidPrice4', 'BidPrice5', 'BidPrice6', 'BidPrice7', 'BidPrice8', 'BidPrice9', 'BidVolume1', 'BidVolume10', 'BidVolume2', 'BidVolume3', 'BidVolume4', 'BidVolume5', 'BidVolume6', 'BidVolume7', 'BidVolume8', 'BidVolume9', 'ClosePrice', 'DataTime', 'HighestPrice', 'InstrumentID', 'LastPrice', 'LowerLimitPrice', 'LowestPrice', 'Nano', 'OpenPrice', 'PreClosePrice', 'PreSettlPrice', 'SettlPrice', 'TradesCount', 'TradingDay', 'Turnover', 'UpperLimitPrice', 'Volume']\n"
     ]
    }
   ],
   "source": [
    "f =  h5py.File(\"./interview/300132_20220616.h5\", \"r\")\n",
    "print(list(f.keys()))"
   ]
  },
  {
   "cell_type": "code",
   "execution_count": 5,
   "metadata": {},
   "outputs": [],
   "source": [
    "df = pd.DataFrame({\n",
    "    k: f[k][:] for k in f.keys()\n",
    "})"
   ]
  },
  {
   "cell_type": "code",
   "execution_count": 24,
   "metadata": {},
   "outputs": [],
   "source": [
    "df[\"Time\"] = df[\"DataTime\"].apply(parse_timestamp)"
   ]
  },
  {
   "cell_type": "code",
   "execution_count": 25,
   "metadata": {},
   "outputs": [],
   "source": [
    "df.set_index(\"Time\",inplace=True)\n"
   ]
  },
  {
   "cell_type": "code",
   "execution_count": 50,
   "metadata": {},
   "outputs": [
    {
     "data": {
      "text/plain": [
       "Time\n",
       "2022-06-01 09:30:00.030    5.931874\n",
       "2022-06-01 09:30:00.030    5.943148\n",
       "2022-06-01 09:30:00.040    5.942739\n",
       "2022-06-01 09:30:00.050    5.942739\n",
       "2022-06-01 09:30:00.080    5.942326\n",
       "                             ...   \n",
       "2022-06-01 14:56:52.720    6.054720\n",
       "2022-06-01 14:56:54.830    6.054720\n",
       "2022-06-01 14:56:54.900    6.054720\n",
       "2022-06-01 14:56:56.870    6.055362\n",
       "2022-06-01 14:56:59.770    6.055033\n",
       "Length: 21353, dtype: float64"
      ]
     },
     "execution_count": 50,
     "metadata": {},
     "output_type": "execute_result"
    }
   ],
   "source": [
    "vwap(df, 10, _type=\"bid\")[0]"
   ]
  },
  {
   "cell_type": "code",
   "execution_count": 59,
   "metadata": {},
   "outputs": [
    {
     "data": {
      "text/plain": [
       "<pandas.core.resample.DatetimeIndexResampler object at 0x7f9e0f249ba0>"
      ]
     },
     "execution_count": 59,
     "metadata": {},
     "output_type": "execute_result"
    }
   ],
   "source": [
    "df.resample(\"5s\")"
   ]
  },
  {
   "cell_type": "code",
   "execution_count": 60,
   "metadata": {},
   "outputs": [],
   "source": []
  },
  {
   "cell_type": "code",
   "execution_count": 65,
   "metadata": {},
   "outputs": [],
   "source": []
  },
  {
   "cell_type": "code",
   "execution_count": 79,
   "metadata": {},
   "outputs": [
    {
     "ename": "OSError",
     "evalue": "Unable to open file (file signature not found)",
     "output_type": "error",
     "traceback": [
      "\u001b[0;31m---------------------------------------------------------------------------\u001b[0m",
      "\u001b[0;31mOSError\u001b[0m                                   Traceback (most recent call last)",
      "Cell \u001b[0;32mIn[79], line 2\u001b[0m\n\u001b[1;32m      1\u001b[0m ppl \u001b[38;5;241m=\u001b[39m PPL()\n\u001b[0;32m----> 2\u001b[0m \u001b[43mppl\u001b[49m\u001b[38;5;241;43m.\u001b[39;49m\u001b[43mprofiler\u001b[49m\u001b[43m(\u001b[49m\u001b[43mPPL\u001b[49m\u001b[38;5;241;43m.\u001b[39;49m\u001b[43mget_basic\u001b[49m\u001b[43m,\u001b[49m\u001b[43m \u001b[49m\u001b[43mkwargs\u001b[49m\u001b[38;5;241;43m=\u001b[39;49m\u001b[43m{\u001b[49m\u001b[38;5;124;43m\"\u001b[39;49m\u001b[38;5;124;43mfreq\u001b[39;49m\u001b[38;5;124;43m\"\u001b[39;49m\u001b[43m:\u001b[49m\u001b[38;5;124;43m\"\u001b[39;49m\u001b[38;5;124;43m1T\u001b[39;49m\u001b[38;5;124;43m\"\u001b[39;49m\u001b[43m}\u001b[49m\u001b[43m)\u001b[49m\n",
      "Cell \u001b[0;32mIn[78], line 46\u001b[0m, in \u001b[0;36mPPL.profiler\u001b[0;34m(self, dayprofiler, kwargs, id, start_date, end_date)\u001b[0m\n\u001b[1;32m     44\u001b[0m     \u001b[38;5;28;01mif\u001b[39;00m os\u001b[38;5;241m.\u001b[39mpath\u001b[38;5;241m.\u001b[39mexists(\u001b[38;5;124mf\u001b[39m\u001b[38;5;124m'\u001b[39m\u001b[38;5;132;01m{\u001b[39;00m\u001b[38;5;28mself\u001b[39m\u001b[38;5;241m.\u001b[39mbase_path\u001b[38;5;132;01m}\u001b[39;00m\u001b[38;5;124m/\u001b[39m\u001b[38;5;132;01m{\u001b[39;00m\u001b[38;5;28mid\u001b[39m\u001b[38;5;132;01m}\u001b[39;00m\u001b[38;5;124m_\u001b[39m\u001b[38;5;132;01m{\u001b[39;00mdate\u001b[38;5;132;01m}\u001b[39;00m\u001b[38;5;124m.h5\u001b[39m\u001b[38;5;124m'\u001b[39m):\n\u001b[1;32m     45\u001b[0m         res_dates\u001b[38;5;241m.\u001b[39mappend(date)\n\u001b[0;32m---> 46\u001b[0m         \u001b[38;5;28;01mwith\u001b[39;00m \u001b[43mh5py\u001b[49m\u001b[38;5;241;43m.\u001b[39;49m\u001b[43mFile\u001b[49m\u001b[43m(\u001b[49m\u001b[38;5;124;43mf\u001b[39;49m\u001b[38;5;124;43m'\u001b[39;49m\u001b[38;5;132;43;01m{\u001b[39;49;00m\u001b[38;5;28;43mself\u001b[39;49m\u001b[38;5;241;43m.\u001b[39;49m\u001b[43mbase_path\u001b[49m\u001b[38;5;132;43;01m}\u001b[39;49;00m\u001b[38;5;124;43m/\u001b[39;49m\u001b[38;5;132;43;01m{\u001b[39;49;00m\u001b[38;5;28;43mid\u001b[39;49m\u001b[38;5;132;43;01m}\u001b[39;49;00m\u001b[38;5;124;43m_\u001b[39;49m\u001b[38;5;132;43;01m{\u001b[39;49;00m\u001b[43mdate\u001b[49m\u001b[38;5;132;43;01m}\u001b[39;49;00m\u001b[38;5;124;43m.h5\u001b[39;49m\u001b[38;5;124;43m'\u001b[39;49m\u001b[43m,\u001b[49m\u001b[43m \u001b[49m\u001b[38;5;124;43m'\u001b[39;49m\u001b[38;5;124;43mr\u001b[39;49m\u001b[38;5;124;43m'\u001b[39;49m\u001b[43m)\u001b[49m \u001b[38;5;28;01mas\u001b[39;00m f:\n\u001b[1;32m     47\u001b[0m             res\u001b[38;5;241m.\u001b[39mappend(dayprofiler(f, \u001b[38;5;241m*\u001b[39m\u001b[38;5;241m*\u001b[39mkwargs))\n\u001b[1;32m     48\u001b[0m \u001b[38;5;28;01mreturn\u001b[39;00m pd\u001b[38;5;241m.\u001b[39mconcat(res, keys\u001b[38;5;241m=\u001b[39mres_dates)\n",
      "File \u001b[0;32m~/anaconda3/lib/python3.10/site-packages/h5py/_hl/files.py:533\u001b[0m, in \u001b[0;36mFile.__init__\u001b[0;34m(self, name, mode, driver, libver, userblock_size, swmr, rdcc_nslots, rdcc_nbytes, rdcc_w0, track_order, fs_strategy, fs_persist, fs_threshold, fs_page_size, page_buf_size, min_meta_keep, min_raw_keep, locking, alignment_threshold, alignment_interval, **kwds)\u001b[0m\n\u001b[1;32m    525\u001b[0m     fapl \u001b[38;5;241m=\u001b[39m make_fapl(driver, libver, rdcc_nslots, rdcc_nbytes, rdcc_w0,\n\u001b[1;32m    526\u001b[0m                      locking, page_buf_size, min_meta_keep, min_raw_keep,\n\u001b[1;32m    527\u001b[0m                      alignment_threshold\u001b[38;5;241m=\u001b[39malignment_threshold,\n\u001b[1;32m    528\u001b[0m                      alignment_interval\u001b[38;5;241m=\u001b[39malignment_interval,\n\u001b[1;32m    529\u001b[0m                      \u001b[38;5;241m*\u001b[39m\u001b[38;5;241m*\u001b[39mkwds)\n\u001b[1;32m    530\u001b[0m     fcpl \u001b[38;5;241m=\u001b[39m make_fcpl(track_order\u001b[38;5;241m=\u001b[39mtrack_order, fs_strategy\u001b[38;5;241m=\u001b[39mfs_strategy,\n\u001b[1;32m    531\u001b[0m                      fs_persist\u001b[38;5;241m=\u001b[39mfs_persist, fs_threshold\u001b[38;5;241m=\u001b[39mfs_threshold,\n\u001b[1;32m    532\u001b[0m                      fs_page_size\u001b[38;5;241m=\u001b[39mfs_page_size)\n\u001b[0;32m--> 533\u001b[0m     fid \u001b[38;5;241m=\u001b[39m \u001b[43mmake_fid\u001b[49m\u001b[43m(\u001b[49m\u001b[43mname\u001b[49m\u001b[43m,\u001b[49m\u001b[43m \u001b[49m\u001b[43mmode\u001b[49m\u001b[43m,\u001b[49m\u001b[43m \u001b[49m\u001b[43muserblock_size\u001b[49m\u001b[43m,\u001b[49m\u001b[43m \u001b[49m\u001b[43mfapl\u001b[49m\u001b[43m,\u001b[49m\u001b[43m \u001b[49m\u001b[43mfcpl\u001b[49m\u001b[43m,\u001b[49m\u001b[43m \u001b[49m\u001b[43mswmr\u001b[49m\u001b[38;5;241;43m=\u001b[39;49m\u001b[43mswmr\u001b[49m\u001b[43m)\u001b[49m\n\u001b[1;32m    535\u001b[0m \u001b[38;5;28;01mif\u001b[39;00m \u001b[38;5;28misinstance\u001b[39m(libver, \u001b[38;5;28mtuple\u001b[39m):\n\u001b[1;32m    536\u001b[0m     \u001b[38;5;28mself\u001b[39m\u001b[38;5;241m.\u001b[39m_libver \u001b[38;5;241m=\u001b[39m libver\n",
      "File \u001b[0;32m~/anaconda3/lib/python3.10/site-packages/h5py/_hl/files.py:226\u001b[0m, in \u001b[0;36mmake_fid\u001b[0;34m(name, mode, userblock_size, fapl, fcpl, swmr)\u001b[0m\n\u001b[1;32m    224\u001b[0m     \u001b[38;5;28;01mif\u001b[39;00m swmr \u001b[38;5;129;01mand\u001b[39;00m swmr_support:\n\u001b[1;32m    225\u001b[0m         flags \u001b[38;5;241m|\u001b[39m\u001b[38;5;241m=\u001b[39m h5f\u001b[38;5;241m.\u001b[39mACC_SWMR_READ\n\u001b[0;32m--> 226\u001b[0m     fid \u001b[38;5;241m=\u001b[39m \u001b[43mh5f\u001b[49m\u001b[38;5;241;43m.\u001b[39;49m\u001b[43mopen\u001b[49m\u001b[43m(\u001b[49m\u001b[43mname\u001b[49m\u001b[43m,\u001b[49m\u001b[43m \u001b[49m\u001b[43mflags\u001b[49m\u001b[43m,\u001b[49m\u001b[43m \u001b[49m\u001b[43mfapl\u001b[49m\u001b[38;5;241;43m=\u001b[39;49m\u001b[43mfapl\u001b[49m\u001b[43m)\u001b[49m\n\u001b[1;32m    227\u001b[0m \u001b[38;5;28;01melif\u001b[39;00m mode \u001b[38;5;241m==\u001b[39m \u001b[38;5;124m'\u001b[39m\u001b[38;5;124mr+\u001b[39m\u001b[38;5;124m'\u001b[39m:\n\u001b[1;32m    228\u001b[0m     fid \u001b[38;5;241m=\u001b[39m h5f\u001b[38;5;241m.\u001b[39mopen(name, h5f\u001b[38;5;241m.\u001b[39mACC_RDWR, fapl\u001b[38;5;241m=\u001b[39mfapl)\n",
      "File \u001b[0;32mh5py/_objects.pyx:54\u001b[0m, in \u001b[0;36mh5py._objects.with_phil.wrapper\u001b[0;34m()\u001b[0m\n",
      "File \u001b[0;32mh5py/_objects.pyx:55\u001b[0m, in \u001b[0;36mh5py._objects.with_phil.wrapper\u001b[0;34m()\u001b[0m\n",
      "File \u001b[0;32mh5py/h5f.pyx:106\u001b[0m, in \u001b[0;36mh5py.h5f.open\u001b[0;34m()\u001b[0m\n",
      "\u001b[0;31mOSError\u001b[0m: Unable to open file (file signature not found)"
     ]
    }
   ],
   "source": [
    "ppl = PPL()\n",
    "ppl.profiler(PPL.get_basic, kwargs={\"freq\":\"1T\"})"
   ]
  },
  {
   "cell_type": "code",
   "execution_count": null,
   "metadata": {},
   "outputs": [],
   "source": []
  },
  {
   "cell_type": "code",
   "execution_count": null,
   "metadata": {},
   "outputs": [],
   "source": []
  }
 ],
 "metadata": {
  "kernelspec": {
   "display_name": "base",
   "language": "python",
   "name": "python3"
  },
  "language_info": {
   "codemirror_mode": {
    "name": "ipython",
    "version": 3
   },
   "file_extension": ".py",
   "mimetype": "text/x-python",
   "name": "python",
   "nbconvert_exporter": "python",
   "pygments_lexer": "ipython3",
   "version": "3.10.9"
  }
 },
 "nbformat": 4,
 "nbformat_minor": 2
}
